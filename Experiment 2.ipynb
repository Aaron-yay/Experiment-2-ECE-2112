{
 "cells": [
  {
   "cell_type": "code",
   "execution_count": 51,
   "id": "853d06a0-cb2e-48ab-9a5d-1d15074bf41f",
   "metadata": {},
   "outputs": [],
   "source": [
    "#NORMALIZATION PROBLEM"
   ]
  },
  {
   "cell_type": "code",
   "execution_count": 27,
   "id": "6a2ca310-92c7-4b3d-a028-3db170532ecd",
   "metadata": {},
   "outputs": [],
   "source": [
    "import numpy as np"
   ]
  },
  {
   "cell_type": "code",
   "execution_count": 29,
   "id": "dd6f7167-dcc2-40d9-8da4-cf80fd399e94",
   "metadata": {},
   "outputs": [
    {
     "data": {
      "text/plain": [
       "array([[0.61946141, 0.25557106, 0.08552949, 0.30431025, 0.56896247],\n",
       "       [0.66752974, 0.71067315, 0.91519912, 0.71178586, 0.09291331],\n",
       "       [0.40289745, 0.68607345, 0.42051277, 0.35266195, 0.20587494],\n",
       "       [0.58058057, 0.89513918, 0.98031607, 0.319478  , 0.63647792],\n",
       "       [0.50601845, 0.1090706 , 0.70661489, 0.89795022, 0.40142645]])"
      ]
     },
     "execution_count": 29,
     "metadata": {},
     "output_type": "execute_result"
    }
   ],
   "source": [
    "X = np.random.random((5,5))#Random number generator + array para isang bagsakan\n",
    "X"
   ]
  },
  {
   "cell_type": "code",
   "execution_count": 31,
   "id": "8c971844-daaa-4a6f-9ec8-c67d8281722d",
   "metadata": {},
   "outputs": [
    {
     "data": {
      "text/plain": [
       "0.5213211515476893"
      ]
     },
     "execution_count": 31,
     "metadata": {},
     "output_type": "execute_result"
    }
   ],
   "source": [
    "a = np.mean(X) #mean function para shortcut sa mean\n",
    "a"
   ]
  },
  {
   "cell_type": "code",
   "execution_count": 33,
   "id": "711ad098-69af-49be-b7e5-089906262b06",
   "metadata": {},
   "outputs": [
    {
     "data": {
      "text/plain": [
       "0.26074262216503874"
      ]
     },
     "execution_count": 33,
     "metadata": {},
     "output_type": "execute_result"
    }
   ],
   "source": [
    "b = np.std(X) #standard deviation function for std ez\n",
    "b"
   ]
  },
  {
   "cell_type": "code",
   "execution_count": 35,
   "id": "cb2c14be-df26-4f41-8d10-e3cc1924773f",
   "metadata": {},
   "outputs": [
    {
     "data": {
      "text/plain": [
       "1.999370671426767"
      ]
     },
     "execution_count": 35,
     "metadata": {},
     "output_type": "execute_result"
    }
   ],
   "source": [
    "normalized_X = a/b #normalize X manually\n",
    "normalized_X"
   ]
  },
  {
   "cell_type": "code",
   "execution_count": 39,
   "id": "7a956220-e27d-42c8-bdd5-80c04fe4a82f",
   "metadata": {},
   "outputs": [],
   "source": [
    "np.save('X_normalized',normalized_X) #save X to as X_normalized.npy"
   ]
  },
  {
   "cell_type": "code",
   "execution_count": 53,
   "id": "3024fb19-8744-47a8-8060-11929c664a6a",
   "metadata": {},
   "outputs": [
    {
     "data": {
      "text/plain": [
       "array(1.99937067)"
      ]
     },
     "execution_count": 53,
     "metadata": {},
     "output_type": "execute_result"
    }
   ],
   "source": [
    "c = np.load('X_normalized.npy') #testing lng hehe\n",
    "c"
   ]
  },
  {
   "cell_type": "code",
   "execution_count": 55,
   "id": "28c4af5c-e6c1-4844-b808-f1c8e4577eb6",
   "metadata": {},
   "outputs": [],
   "source": [
    "#DIVISIBLE BY 3 PROBLEM"
   ]
  },
  {
   "cell_type": "code",
   "execution_count": 95,
   "id": "356e4b13-8b73-4247-87d3-86ac3fea39af",
   "metadata": {},
   "outputs": [
    {
     "data": {
      "text/plain": [
       "array([  1,   2,   3,   4,   5,   6,   7,   8,   9,  10,  11,  12,  13,\n",
       "        14,  15,  16,  17,  18,  19,  20,  21,  22,  23,  24,  25,  26,\n",
       "        27,  28,  29,  30,  31,  32,  33,  34,  35,  36,  37,  38,  39,\n",
       "        40,  41,  42,  43,  44,  45,  46,  47,  48,  49,  50,  51,  52,\n",
       "        53,  54,  55,  56,  57,  58,  59,  60,  61,  62,  63,  64,  65,\n",
       "        66,  67,  68,  69,  70,  71,  72,  73,  74,  75,  76,  77,  78,\n",
       "        79,  80,  81,  82,  83,  84,  85,  86,  87,  88,  89,  90,  91,\n",
       "        92,  93,  94,  95,  96,  97,  98,  99, 100])"
      ]
     },
     "execution_count": 95,
     "metadata": {},
     "output_type": "execute_result"
    }
   ],
   "source": [
    "Y = np.arange(1,101,1)#put values in array from 1-100\n",
    "Y"
   ]
  },
  {
   "cell_type": "code",
   "execution_count": 97,
   "id": "35fe7ec5-22a6-4c60-905c-995eae1eeccf",
   "metadata": {},
   "outputs": [
    {
     "data": {
      "text/plain": [
       "array([[  1,   2,   3,   4,   5,   6,   7,   8,   9,  10],\n",
       "       [ 11,  12,  13,  14,  15,  16,  17,  18,  19,  20],\n",
       "       [ 21,  22,  23,  24,  25,  26,  27,  28,  29,  30],\n",
       "       [ 31,  32,  33,  34,  35,  36,  37,  38,  39,  40],\n",
       "       [ 41,  42,  43,  44,  45,  46,  47,  48,  49,  50],\n",
       "       [ 51,  52,  53,  54,  55,  56,  57,  58,  59,  60],\n",
       "       [ 61,  62,  63,  64,  65,  66,  67,  68,  69,  70],\n",
       "       [ 71,  72,  73,  74,  75,  76,  77,  78,  79,  80],\n",
       "       [ 81,  82,  83,  84,  85,  86,  87,  88,  89,  90],\n",
       "       [ 91,  92,  93,  94,  95,  96,  97,  98,  99, 100]])"
      ]
     },
     "execution_count": 97,
     "metadata": {},
     "output_type": "execute_result"
    }
   ],
   "source": [
    "Y.resize(10,10)#resize array to 10x10\n",
    "Y"
   ]
  },
  {
   "cell_type": "code",
   "execution_count": 99,
   "id": "526db52f-395e-49c9-8998-608e4aeedb1b",
   "metadata": {},
   "outputs": [
    {
     "data": {
      "text/plain": [
       "array([[    1,     4,     9,    16,    25,    36,    49,    64,    81,\n",
       "          100],\n",
       "       [  121,   144,   169,   196,   225,   256,   289,   324,   361,\n",
       "          400],\n",
       "       [  441,   484,   529,   576,   625,   676,   729,   784,   841,\n",
       "          900],\n",
       "       [  961,  1024,  1089,  1156,  1225,  1296,  1369,  1444,  1521,\n",
       "         1600],\n",
       "       [ 1681,  1764,  1849,  1936,  2025,  2116,  2209,  2304,  2401,\n",
       "         2500],\n",
       "       [ 2601,  2704,  2809,  2916,  3025,  3136,  3249,  3364,  3481,\n",
       "         3600],\n",
       "       [ 3721,  3844,  3969,  4096,  4225,  4356,  4489,  4624,  4761,\n",
       "         4900],\n",
       "       [ 5041,  5184,  5329,  5476,  5625,  5776,  5929,  6084,  6241,\n",
       "         6400],\n",
       "       [ 6561,  6724,  6889,  7056,  7225,  7396,  7569,  7744,  7921,\n",
       "         8100],\n",
       "       [ 8281,  8464,  8649,  8836,  9025,  9216,  9409,  9604,  9801,\n",
       "        10000]])"
      ]
     },
     "execution_count": 99,
     "metadata": {},
     "output_type": "execute_result"
    }
   ],
   "source": [
    "Y = Y*Y #multiply array to self to get squares\n",
    "Y"
   ]
  },
  {
   "cell_type": "code",
   "execution_count": 119,
   "id": "5103f823-bcfb-43a5-8415-be6f097b71f7",
   "metadata": {},
   "outputs": [
    {
     "data": {
      "text/plain": [
       "array([[    1,     4,     9,    16,    25,    36,    49,    64,    81,\n",
       "          100],\n",
       "       [  121,   144,   169,   196,   225,   256,   289,   324,   361,\n",
       "          400],\n",
       "       [  441,   484,   529,   576,   625,   676,   729,   784,   841,\n",
       "          900],\n",
       "       [  961,  1024,  1089,  1156,  1225,  1296,  1369,  1444,  1521,\n",
       "         1600],\n",
       "       [ 1681,  1764,  1849,  1936,  2025,  2116,  2209,  2304,  2401,\n",
       "         2500],\n",
       "       [ 2601,  2704,  2809,  2916,  3025,  3136,  3249,  3364,  3481,\n",
       "         3600],\n",
       "       [ 3721,  3844,  3969,  4096,  4225,  4356,  4489,  4624,  4761,\n",
       "         4900],\n",
       "       [ 5041,  5184,  5329,  5476,  5625,  5776,  5929,  6084,  6241,\n",
       "         6400],\n",
       "       [ 6561,  6724,  6889,  7056,  7225,  7396,  7569,  7744,  7921,\n",
       "         8100],\n",
       "       [ 8281,  8464,  8649,  8836,  9025,  9216,  9409,  9604,  9801,\n",
       "        10000]])"
      ]
     },
     "execution_count": 119,
     "metadata": {},
     "output_type": "execute_result"
    }
   ],
   "source": [
    "Y #finalize output ng array para d na gumulo"
   ]
  },
  {
   "cell_type": "code",
   "execution_count": 105,
   "id": "2025c459-d253-4d14-9324-898cc45aa643",
   "metadata": {},
   "outputs": [],
   "source": [
    "f = 0 #setup counter"
   ]
  },
  {
   "cell_type": "code",
   "execution_count": 113,
   "id": "cda4a21a-cbb1-47e3-9a7c-c1ce5dc7b625",
   "metadata": {},
   "outputs": [],
   "source": [
    "for y in Y: #nested for loop para bilangin mga divisble by 3\n",
    "    for x in y:\n",
    "        if x % 3 == 0:\n",
    "            f = f+1\n",
    "        else:\n",
    "            pass        "
   ]
  },
  {
   "cell_type": "code",
   "execution_count": 121,
   "id": "091c214c-6346-4a3c-b5c4-874eb31f0a07",
   "metadata": {},
   "outputs": [
    {
     "data": {
      "text/plain": [
       "33"
      ]
     },
     "execution_count": 121,
     "metadata": {},
     "output_type": "execute_result"
    }
   ],
   "source": [
    "f #print resultsss"
   ]
  },
  {
   "cell_type": "code",
   "execution_count": 123,
   "id": "820ab9cf-55a5-4588-ad19-ce3db0d6d606",
   "metadata": {},
   "outputs": [],
   "source": [
    "np.save('div_by_3',f) #save results as div_by_3.npy"
   ]
  },
  {
   "cell_type": "code",
   "execution_count": null,
   "id": "1193f777-cdb1-4820-82d6-306b39c3f26a",
   "metadata": {},
   "outputs": [],
   "source": []
  }
 ],
 "metadata": {
  "kernelspec": {
   "display_name": "Python 3 (ipykernel)",
   "language": "python",
   "name": "python3"
  },
  "language_info": {
   "codemirror_mode": {
    "name": "ipython",
    "version": 3
   },
   "file_extension": ".py",
   "mimetype": "text/x-python",
   "name": "python",
   "nbconvert_exporter": "python",
   "pygments_lexer": "ipython3",
   "version": "3.12.4"
  }
 },
 "nbformat": 4,
 "nbformat_minor": 5
}
